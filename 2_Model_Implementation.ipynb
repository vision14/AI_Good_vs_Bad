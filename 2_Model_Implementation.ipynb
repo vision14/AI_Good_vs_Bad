{
 "cells": [
  {
   "cell_type": "markdown",
   "metadata": {},
   "source": [
    "# **Abstract:** \n",
    "The objective of this notebook is to apply machine learning classification algorithms like Naive Bayes, Stochastic Gradient Descent and Support vector Machine on a term frequency inverse document frequency (tf-idf) sparse matrix to determine whether a user's opinion is positive or negative on Artificial Intelligence."
   ]
  },
  {
   "cell_type": "markdown",
   "metadata": {},
   "source": [
    "# PART-A: Determine a Proper Model"
   ]
  },
  {
   "cell_type": "markdown",
   "metadata": {},
   "source": [
    "For this notebook, I have selected three supervised learning classification models which are Naive Baye, Stochastic Gradient Descent and Support Vector Machine to analyze the created data.\n",
    "\n",
    "**Naive Bayes**\n",
    "\n",
    "Naive Bayes is a probabilistic classification algorithm which uses Bayesian theory to calculate the probability of an event based on the prior probability of another related event. For example, let's say we want to calculate the probability of raining today given that there are clouds outside, then it can be done using the probability of rain, probability of cloudy weather and the probability of a cloudy day given that it had rain in the past. These sets of probability are mathematically denoted as prior probability, likelihood and marginalization using which we can calculate the posterior probability of an event. The reason for selecting this algorithm is that the dependency between two probabilities allows Naive Bayes to perform efficiently in text analysis problems.\n",
    "\n",
    "**Stochastic Gradient Descent**\n",
    "\n",
    "The aim of a Stochastic Gradient Descent (SGD) algorithm is to reduce the error rate by adjusting the values of weights of the features. This algorithm is an extension of hill climbing algorithm with the aim of finding a global minimum. The algorithm starts by randomly initializing the values of the weights and then calculating the error function. In the next iteration, the algorithm changes the values of weights by small margin called alpha or learning rate, If the error function has decreased, the algorithm keeps moving in that direction until it reaches either a local minimum or the global minimum. however, if the error function has increased after the change, the algorithm changes the values of weights in the opposite direction until it reaches a local minimum or the global minimum. This algorithm was selected because it is a simple and greedy algorithm which allows it to detect several patterns that might get undetected by other sophisticated algorithms.\n",
    "\n",
    "**Support Vector Machine**\n",
    "\n",
    "Support Vector Machine (SVM) is a classification algorithm that uses outlier analysis to identify the separation line between different classes in the dataset. Rather than calculating the similarities between two different datapoints, SVM tries to calculate the dissimilarity between those datapoints to differentiate them. This technique allows SVM to detect outliers in an efficient way. Furthermore, SVM uses a kernel that follows either linear, polynomial, sigmoid, gaussian or logarithmic pattern to calculate the separation line. These different sets of kernels make SVM an efficient tool to capture non-linear patterns in a higher-dimensional dataset. Since we have around 1531 dimensions in our dataset, SVM will be able to project those datapoints in a much better way than any other classification models."
   ]
  },
  {
   "cell_type": "markdown",
   "metadata": {},
   "source": [
    "# PART-B: Apply the Algorithm"
   ]
  },
  {
   "cell_type": "markdown",
   "metadata": {},
   "source": [
    "Before applying the algorithm, we need to load the datasets created in the previous notebook. The datasets features and labels are stored in a csv file so they can be loaded using pandas' read_csv() method."
   ]
  },
  {
   "cell_type": "code",
   "execution_count": 1,
   "metadata": {},
   "outputs": [],
   "source": [
    "# Importing pandas package\n",
    "import pandas as pd\n",
    "\n",
    "# Loading both features and labels into two DataFrames\n",
    "X = pd.read_csv('features.csv')\n",
    "y = pd.read_csv('Labels.csv')"
   ]
  },
  {
   "cell_type": "code",
   "execution_count": 2,
   "metadata": {},
   "outputs": [
    {
     "data": {
      "text/html": [
       "<div>\n",
       "<style scoped>\n",
       "    .dataframe tbody tr th:only-of-type {\n",
       "        vertical-align: middle;\n",
       "    }\n",
       "\n",
       "    .dataframe tbody tr th {\n",
       "        vertical-align: top;\n",
       "    }\n",
       "\n",
       "    .dataframe thead th {\n",
       "        text-align: right;\n",
       "    }\n",
       "</style>\n",
       "<table border=\"1\" class=\"dataframe\">\n",
       "  <thead>\n",
       "    <tr style=\"text-align: right;\">\n",
       "      <th></th>\n",
       "      <th>0</th>\n",
       "      <th>1</th>\n",
       "      <th>2</th>\n",
       "      <th>3</th>\n",
       "      <th>4</th>\n",
       "      <th>5</th>\n",
       "      <th>6</th>\n",
       "      <th>7</th>\n",
       "      <th>8</th>\n",
       "      <th>9</th>\n",
       "      <th>...</th>\n",
       "      <th>1521</th>\n",
       "      <th>1522</th>\n",
       "      <th>1523</th>\n",
       "      <th>1524</th>\n",
       "      <th>1525</th>\n",
       "      <th>1526</th>\n",
       "      <th>1527</th>\n",
       "      <th>1528</th>\n",
       "      <th>1529</th>\n",
       "      <th>1530</th>\n",
       "    </tr>\n",
       "  </thead>\n",
       "  <tbody>\n",
       "    <tr>\n",
       "      <th>0</th>\n",
       "      <td>0.0</td>\n",
       "      <td>0.0</td>\n",
       "      <td>0.0</td>\n",
       "      <td>0.0</td>\n",
       "      <td>0.0</td>\n",
       "      <td>0.0</td>\n",
       "      <td>0.0</td>\n",
       "      <td>0.0</td>\n",
       "      <td>0.0</td>\n",
       "      <td>0.0</td>\n",
       "      <td>...</td>\n",
       "      <td>0.0</td>\n",
       "      <td>0.0</td>\n",
       "      <td>0.0</td>\n",
       "      <td>0.0</td>\n",
       "      <td>0.000000</td>\n",
       "      <td>0.0</td>\n",
       "      <td>0.0</td>\n",
       "      <td>0.0</td>\n",
       "      <td>0.0</td>\n",
       "      <td>0.0</td>\n",
       "    </tr>\n",
       "    <tr>\n",
       "      <th>1</th>\n",
       "      <td>0.0</td>\n",
       "      <td>0.0</td>\n",
       "      <td>0.0</td>\n",
       "      <td>0.0</td>\n",
       "      <td>0.0</td>\n",
       "      <td>0.0</td>\n",
       "      <td>0.0</td>\n",
       "      <td>0.0</td>\n",
       "      <td>0.0</td>\n",
       "      <td>0.0</td>\n",
       "      <td>...</td>\n",
       "      <td>0.0</td>\n",
       "      <td>0.0</td>\n",
       "      <td>0.0</td>\n",
       "      <td>0.0</td>\n",
       "      <td>0.000000</td>\n",
       "      <td>0.0</td>\n",
       "      <td>0.0</td>\n",
       "      <td>0.0</td>\n",
       "      <td>0.0</td>\n",
       "      <td>0.0</td>\n",
       "    </tr>\n",
       "    <tr>\n",
       "      <th>2</th>\n",
       "      <td>0.0</td>\n",
       "      <td>0.0</td>\n",
       "      <td>0.0</td>\n",
       "      <td>0.0</td>\n",
       "      <td>0.0</td>\n",
       "      <td>0.0</td>\n",
       "      <td>0.0</td>\n",
       "      <td>0.0</td>\n",
       "      <td>0.0</td>\n",
       "      <td>0.0</td>\n",
       "      <td>...</td>\n",
       "      <td>0.0</td>\n",
       "      <td>0.0</td>\n",
       "      <td>0.0</td>\n",
       "      <td>0.0</td>\n",
       "      <td>0.000000</td>\n",
       "      <td>0.0</td>\n",
       "      <td>0.0</td>\n",
       "      <td>0.0</td>\n",
       "      <td>0.0</td>\n",
       "      <td>0.0</td>\n",
       "    </tr>\n",
       "    <tr>\n",
       "      <th>3</th>\n",
       "      <td>0.0</td>\n",
       "      <td>0.0</td>\n",
       "      <td>0.0</td>\n",
       "      <td>0.0</td>\n",
       "      <td>0.0</td>\n",
       "      <td>0.0</td>\n",
       "      <td>0.0</td>\n",
       "      <td>0.0</td>\n",
       "      <td>0.0</td>\n",
       "      <td>0.0</td>\n",
       "      <td>...</td>\n",
       "      <td>0.0</td>\n",
       "      <td>0.0</td>\n",
       "      <td>0.0</td>\n",
       "      <td>0.0</td>\n",
       "      <td>0.491199</td>\n",
       "      <td>0.0</td>\n",
       "      <td>0.0</td>\n",
       "      <td>0.0</td>\n",
       "      <td>0.0</td>\n",
       "      <td>0.0</td>\n",
       "    </tr>\n",
       "    <tr>\n",
       "      <th>4</th>\n",
       "      <td>0.0</td>\n",
       "      <td>0.0</td>\n",
       "      <td>0.0</td>\n",
       "      <td>0.0</td>\n",
       "      <td>0.0</td>\n",
       "      <td>0.0</td>\n",
       "      <td>0.0</td>\n",
       "      <td>0.0</td>\n",
       "      <td>0.0</td>\n",
       "      <td>0.0</td>\n",
       "      <td>...</td>\n",
       "      <td>0.0</td>\n",
       "      <td>0.0</td>\n",
       "      <td>0.0</td>\n",
       "      <td>0.0</td>\n",
       "      <td>1.000000</td>\n",
       "      <td>0.0</td>\n",
       "      <td>0.0</td>\n",
       "      <td>0.0</td>\n",
       "      <td>0.0</td>\n",
       "      <td>0.0</td>\n",
       "    </tr>\n",
       "  </tbody>\n",
       "</table>\n",
       "<p>5 rows × 1531 columns</p>\n",
       "</div>"
      ],
      "text/plain": [
       "     0    1    2    3    4    5    6    7    8    9  ...  1521  1522  1523  \\\n",
       "0  0.0  0.0  0.0  0.0  0.0  0.0  0.0  0.0  0.0  0.0  ...   0.0   0.0   0.0   \n",
       "1  0.0  0.0  0.0  0.0  0.0  0.0  0.0  0.0  0.0  0.0  ...   0.0   0.0   0.0   \n",
       "2  0.0  0.0  0.0  0.0  0.0  0.0  0.0  0.0  0.0  0.0  ...   0.0   0.0   0.0   \n",
       "3  0.0  0.0  0.0  0.0  0.0  0.0  0.0  0.0  0.0  0.0  ...   0.0   0.0   0.0   \n",
       "4  0.0  0.0  0.0  0.0  0.0  0.0  0.0  0.0  0.0  0.0  ...   0.0   0.0   0.0   \n",
       "\n",
       "   1524      1525  1526  1527  1528  1529  1530  \n",
       "0   0.0  0.000000   0.0   0.0   0.0   0.0   0.0  \n",
       "1   0.0  0.000000   0.0   0.0   0.0   0.0   0.0  \n",
       "2   0.0  0.000000   0.0   0.0   0.0   0.0   0.0  \n",
       "3   0.0  0.491199   0.0   0.0   0.0   0.0   0.0  \n",
       "4   0.0  1.000000   0.0   0.0   0.0   0.0   0.0  \n",
       "\n",
       "[5 rows x 1531 columns]"
      ]
     },
     "execution_count": 2,
     "metadata": {},
     "output_type": "execute_result"
    }
   ],
   "source": [
    "# Displaying first five rows of the features dataframe\n",
    "X.head(5)"
   ]
  },
  {
   "cell_type": "code",
   "execution_count": 3,
   "metadata": {},
   "outputs": [
    {
     "data": {
      "text/plain": [
       "(129, 1531)"
      ]
     },
     "execution_count": 3,
     "metadata": {},
     "output_type": "execute_result"
    }
   ],
   "source": [
    "# Displaying the size of the features dataframe\n",
    "X.shape"
   ]
  },
  {
   "cell_type": "code",
   "execution_count": 4,
   "metadata": {},
   "outputs": [
    {
     "data": {
      "text/html": [
       "<div>\n",
       "<style scoped>\n",
       "    .dataframe tbody tr th:only-of-type {\n",
       "        vertical-align: middle;\n",
       "    }\n",
       "\n",
       "    .dataframe tbody tr th {\n",
       "        vertical-align: top;\n",
       "    }\n",
       "\n",
       "    .dataframe thead th {\n",
       "        text-align: right;\n",
       "    }\n",
       "</style>\n",
       "<table border=\"1\" class=\"dataframe\">\n",
       "  <thead>\n",
       "    <tr style=\"text-align: right;\">\n",
       "      <th></th>\n",
       "      <th>Sentiments</th>\n",
       "    </tr>\n",
       "  </thead>\n",
       "  <tbody>\n",
       "    <tr>\n",
       "      <th>0</th>\n",
       "      <td>0</td>\n",
       "    </tr>\n",
       "    <tr>\n",
       "      <th>1</th>\n",
       "      <td>0</td>\n",
       "    </tr>\n",
       "    <tr>\n",
       "      <th>2</th>\n",
       "      <td>0</td>\n",
       "    </tr>\n",
       "    <tr>\n",
       "      <th>3</th>\n",
       "      <td>0</td>\n",
       "    </tr>\n",
       "    <tr>\n",
       "      <th>4</th>\n",
       "      <td>0</td>\n",
       "    </tr>\n",
       "  </tbody>\n",
       "</table>\n",
       "</div>"
      ],
      "text/plain": [
       "   Sentiments\n",
       "0           0\n",
       "1           0\n",
       "2           0\n",
       "3           0\n",
       "4           0"
      ]
     },
     "execution_count": 4,
     "metadata": {},
     "output_type": "execute_result"
    }
   ],
   "source": [
    "# Displaying first five rows of the labels dataframe\n",
    "y.head(5)"
   ]
  },
  {
   "cell_type": "code",
   "execution_count": 5,
   "metadata": {},
   "outputs": [
    {
     "data": {
      "text/plain": [
       "(129, 1)"
      ]
     },
     "execution_count": 5,
     "metadata": {},
     "output_type": "execute_result"
    }
   ],
   "source": [
    "# Displaying the size of the labels dataframe\n",
    "y.shape"
   ]
  },
  {
   "cell_type": "markdown",
   "metadata": {},
   "source": [
    "After analyzing the shape and value of both the DataFrames, we can convert them into numpy arrays so that they can be applied to our classification models."
   ]
  },
  {
   "cell_type": "code",
   "execution_count": 6,
   "metadata": {},
   "outputs": [],
   "source": [
    "# Converting dataframes into numpy arrays\n",
    "X = X.values\n",
    "y = y.iloc[:, 0].values"
   ]
  },
  {
   "cell_type": "code",
   "execution_count": 7,
   "metadata": {},
   "outputs": [
    {
     "name": "stdout",
     "output_type": "stream",
     "text": [
      "Type of features: <class 'numpy.ndarray'>\n",
      "Size of features: (129, 1531)\n",
      "\n",
      "Type of labels: <class 'numpy.ndarray'>\n",
      "Size of labels: (129,)\n"
     ]
    }
   ],
   "source": [
    "print(\"Type of features:\", type(X))\n",
    "print(\"Size of features:\", X.shape)\n",
    "print(\"\")\n",
    "print(\"Type of labels:\", type(y))\n",
    "print(\"Size of labels:\", y.shape)"
   ]
  },
  {
   "cell_type": "markdown",
   "metadata": {},
   "source": [
    "Now that we have our features and labels arrays, we can split them into training set and test set. This step is crucial as it will allow us to identify the accuracy of our classification models on unseen data. The splitting process can be executed using scikit-learn library as shown in the following code section, I have included 80% rows in the training set and the remaining 20% rows are added into the test set:"
   ]
  },
  {
   "cell_type": "code",
   "execution_count": 8,
   "metadata": {},
   "outputs": [],
   "source": [
    "# Splitting the dataset into training set and test set\n",
    "from sklearn.model_selection import train_test_split\n",
    "X_train, X_test, y_train, y_test = train_test_split(X, y, test_size = 0.20, random_state = 0)"
   ]
  },
  {
   "cell_type": "code",
   "execution_count": 9,
   "metadata": {},
   "outputs": [
    {
     "name": "stdout",
     "output_type": "stream",
     "text": [
      "Training set size: (103, 1531)\n",
      "Test set size: (26, 1531)\n"
     ]
    }
   ],
   "source": [
    "# Displaying the size of training set and test set\n",
    "print(\"Training set size:\", X_train.shape)\n",
    "print(\"Test set size:\", X_test.shape)"
   ]
  },
  {
   "cell_type": "markdown",
   "metadata": {},
   "source": [
    "**Naive Bayes**\n",
    "\n",
    "Now we can create our first model which is the Naive Bayes classification model. For this dataset I have used scikit-learn library's MultinomialNB class with 0.5 threshold value. This means that if the algorithm will calculate the probability of a comment being positive and negative, which ever label's probability is greater than 0.5 that label will be assigned to that particular document."
   ]
  },
  {
   "cell_type": "code",
   "execution_count": 10,
   "metadata": {},
   "outputs": [],
   "source": [
    "# Importing Naive Bayes model\n",
    "from sklearn.naive_bayes import MultinomialNB\n",
    "\n",
    "# Creating an empty Naive Bayes object\n",
    "naive_bayes = MultinomialNB(class_prior=[.5, .5])\n",
    "\n",
    "# Training the model on training set\n",
    "naive_bayes = naive_bayes.fit(X_train, y_train)"
   ]
  },
  {
   "cell_type": "markdown",
   "metadata": {},
   "source": [
    "**Stochastic Gradient Descent**\n",
    "\n",
    "To create the next model, I have used scikit-learn's linear model package. By using this package's SGDClassifier class, I have created an object with default parameters and trained the model on our training dataset."
   ]
  },
  {
   "cell_type": "code",
   "execution_count": 11,
   "metadata": {},
   "outputs": [],
   "source": [
    "# Importing Stochastic Gradient Descent model\n",
    "from sklearn.linear_model import SGDClassifier\n",
    "\n",
    "# Creating an empty Stochastic Gradient Descent object\n",
    "sgd = SGDClassifier()\n",
    "\n",
    "# Training the model on training set\n",
    "sgd = sgd.fit(X_train, y_train)"
   ]
  },
  {
   "cell_type": "markdown",
   "metadata": {},
   "source": [
    "**Support Vector Machine**\n",
    "\n",
    "At last, I have created a support vector machine classifier with a gaussian kernel using scikit-learn's SVC class. Next, I have trained the gaussian SVM model on our training dataset."
   ]
  },
  {
   "cell_type": "code",
   "execution_count": 12,
   "metadata": {},
   "outputs": [],
   "source": [
    "# Importing Support Vector Machine Classifier model\n",
    "from sklearn.svm import SVC\n",
    "\n",
    "# Creating an empty Support Vector Machine object\n",
    "svc = SVC(kernel='linear')\n",
    "\n",
    "# Training the model on training set\n",
    "svc = svc.fit(X_train, y_train)"
   ]
  },
  {
   "cell_type": "markdown",
   "metadata": {},
   "source": [
    "# PART-C: Visualize and Explain Your Model"
   ]
  },
  {
   "cell_type": "markdown",
   "metadata": {},
   "source": [
    "After creating all the models, we can visualize which features are being used to predict positive opinions and negative opinions. For that, first we will need to load the CountVectorizer object created in the previous notebook."
   ]
  },
  {
   "cell_type": "code",
   "execution_count": 13,
   "metadata": {},
   "outputs": [],
   "source": [
    "# Importing pickle module\n",
    "import pickle\n",
    "\n",
    "# Loading the saved vectorizer pickle file\n",
    "cv = pickle.load(open(\"countvectorizer.pickel\", \"rb\"))"
   ]
  },
  {
   "cell_type": "markdown",
   "metadata": {},
   "source": [
    "Now, we can create method to calculate the features used for classifying positive opinions and negative opinions using the coefficient values of created classification models. In the following code section, I have created a method called important features that takes three arguments: number of features to be extracted, classifier object and the vectorizer object. Using these three parameters, the method calculates the coefficient values of the defined model and sorts them in a descending order to return the first n number of features"
   ]
  },
  {
   "cell_type": "code",
   "execution_count": 14,
   "metadata": {},
   "outputs": [],
   "source": [
    "# Importing numpy package\n",
    "import numpy as np\n",
    "\n",
    "# Creating a method that returns the most important features for assigning labels\n",
    "def important_features(n_features, classifier, vectorizer):\n",
    "    feature_names = vectorizer.get_feature_names()\n",
    "    coefs = sorted(zip(classifier.coef_[0], feature_names))\n",
    "    top_features_0 = coefs[:n_features]\n",
    "    top_features_1 = coefs[-n_features:][::-1]\n",
    "    return np.array([top_features_0, top_features_1])"
   ]
  },
  {
   "cell_type": "markdown",
   "metadata": {},
   "source": [
    "**Naive Bayes**"
   ]
  },
  {
   "cell_type": "code",
   "execution_count": 15,
   "metadata": {},
   "outputs": [],
   "source": [
    "# Calling important features method to get the feature names and their coefficient values for Naive Bayes model\n",
    "nb_top_features = important_features(20, naive_bayes, cv)"
   ]
  },
  {
   "cell_type": "code",
   "execution_count": 16,
   "metadata": {},
   "outputs": [
    {
     "data": {
      "image/png": "[encoded data removed]",
      "text/plain": [
       "<Figure size 720x504 with 1 Axes>"
      ]
     },
     "metadata": {
      "needs_background": "light"
     },
     "output_type": "display_data"
    }
   ],
   "source": [
    "# Importing matplolib package for plotting\n",
    "import matplotlib.pyplot as plt\n",
    "\n",
    "# Plotting most important features for detecting Negative opinions\n",
    "fig = plt.figure(figsize=(10,7))\n",
    "plt.barh(nb_top_features[1][:, 1], nb_top_features[1][:, 0].astype(float))\n",
    "plt.xlim(-3, -7)\n",
    "plt.xlabel('Coefficients', weight='bold', fontsize=14)\n",
    "plt.ylabel('Features', weight='bold', fontsize=14)\n",
    "plt.title('Most Important Features to Detect Negative Opinions\\n', weight='bold', fontsize=18)\n",
    "plt.show()"
   ]
  },
  {
   "cell_type": "code",
   "execution_count": 17,
   "metadata": {},
   "outputs": [
    {
     "data": {
      "image/png": "[encoded data removed]",
      "text/plain": [
       "<Figure size 720x504 with 1 Axes>"
      ]
     },
     "metadata": {
      "needs_background": "light"
     },
     "output_type": "display_data"
    }
   ],
   "source": [
    "# Plotting most important features for detecting Positive opinions\n",
    "fig = plt.figure(figsize=(10,7))\n",
    "plt.barh(nb_top_features[0][:, 1], nb_top_features[0][:, 0].astype(float))\n",
    "plt.xlim(-3, -9)\n",
    "plt.xlabel('Coefficients', weight='bold', fontsize=14)\n",
    "plt.ylabel('Features', weight='bold', fontsize=14)\n",
    "plt.title('Most Important Features to Detect Positive Opinions\\n', weight='bold', fontsize=18)\n",
    "plt.show()"
   ]
  },
  {
   "cell_type": "markdown",
   "metadata": {},
   "source": [
    "**Stochastic Gardient Descent**"
   ]
  },
  {
   "cell_type": "code",
   "execution_count": 18,
   "metadata": {},
   "outputs": [],
   "source": [
    "# Calling important features method to get the feature names and their coefficient values for Stochastic Gradient Descent\n",
    "sgd_top_features = important_features(20, sgd, cv)"
   ]
  },
  {
   "cell_type": "code",
   "execution_count": 19,
   "metadata": {},
   "outputs": [
    {
     "data": {
      "image/png": "[encoded data removed]",
      "text/plain": [
       "<Figure size 720x504 with 1 Axes>"
      ]
     },
     "metadata": {
      "needs_background": "light"
     },
     "output_type": "display_data"
    }
   ],
   "source": [
    "# Plotting most important features for detecting Negative opinions\n",
    "fig = plt.figure(figsize=(10,7))\n",
    "plt.barh(sgd_top_features[1][:, 1], sgd_top_features[1][:, 0].astype(float))\n",
    "plt.xlim(3, 7)\n",
    "plt.xlabel('Coefficients', weight='bold', fontsize=14)\n",
    "plt.ylabel('Features', weight='bold', fontsize=14)\n",
    "plt.title('Most Important Features to Detect Negative Opinions\\n', weight='bold', fontsize=18)\n",
    "plt.show()"
   ]
  },
  {
   "cell_type": "code",
   "execution_count": 20,
   "metadata": {},
   "outputs": [
    {
     "data": {
      "image/png": "[encoded data removed]",
      "text/plain": [
       "<Figure size 720x504 with 1 Axes>"
      ]
     },
     "metadata": {
      "needs_background": "light"
     },
     "output_type": "display_data"
    }
   ],
   "source": [
    "# Plotting most important features for detecting Positive opinions\n",
    "fig = plt.figure(figsize=(10,7))\n",
    "plt.barh(sgd_top_features[0][:, 1], sgd_top_features[0][:, 0].astype(float))\n",
    "plt.xlim(-3, -7)\n",
    "plt.xlabel('Coefficients', weight='bold', fontsize=14)\n",
    "plt.ylabel('Features', weight='bold', fontsize=14)\n",
    "plt.title('Most Important Features to Detect Positive Opinions\\n', weight='bold', fontsize=18)\n",
    "plt.show()"
   ]
  },
  {
   "cell_type": "markdown",
   "metadata": {},
   "source": [
    "**Support Vector Machine**"
   ]
  },
  {
   "cell_type": "code",
   "execution_count": 21,
   "metadata": {},
   "outputs": [],
   "source": [
    "# Calling important features method to get the feature names and their coefficient values for Support Vector Machine\n",
    "svc_top_features = important_features(20, svc, cv)"
   ]
  },
  {
   "cell_type": "code",
   "execution_count": 22,
   "metadata": {},
   "outputs": [
    {
     "data": {
      "image/png": "[encoded data removed]",
      "text/plain": [
       "<Figure size 720x504 with 1 Axes>"
      ]
     },
     "metadata": {
      "needs_background": "light"
     },
     "output_type": "display_data"
    }
   ],
   "source": [
    "# Plotting most important features for detecting Negative opinions\n",
    "fig = plt.figure(figsize=(10,7))\n",
    "plt.barh(svc_top_features[1][:, 1], svc_top_features[1][:, 0].astype(float))\n",
    "plt.xlim(0, 2)\n",
    "plt.xlabel('Coefficients', weight='bold', fontsize=14)\n",
    "plt.ylabel('Features', weight='bold', fontsize=14)\n",
    "plt.title('Most Important Features to Detect Negative Opinions\\n', weight='bold', fontsize=18)\n",
    "plt.show()"
   ]
  },
  {
   "cell_type": "code",
   "execution_count": 23,
   "metadata": {
    "scrolled": false
   },
   "outputs": [
    {
     "data": {
      "image/png": "[encoded data removed]",
      "text/plain": [
       "<Figure size 720x504 with 1 Axes>"
      ]
     },
     "metadata": {
      "needs_background": "light"
     },
     "output_type": "display_data"
    }
   ],
   "source": [
    "# Plotting most important features for detecting Positive opinions\n",
    "fig = plt.figure(figsize=(10,7))\n",
    "plt.barh(svc_top_features[0][:, 1], svc_top_features[0][:, 0].astype(float))\n",
    "plt.xlim(0, -1)\n",
    "plt.xlabel('Coefficients', weight='bold', fontsize=14)\n",
    "plt.ylabel('Features', weight='bold', fontsize=14)\n",
    "plt.title('Most Important Features to Detect Positive Opinions\\n', weight='bold', fontsize=18)\n",
    "plt.show()"
   ]
  },
  {
   "cell_type": "markdown",
   "metadata": {},
   "source": [
    "From above six graphs, we can deduce six points:\n",
    "\n",
    "1. Naive Bayes model uses words like **'bad', 'dangerous', 'yes'** to assign Negative label\n",
    "2. Naive Bayes model uses words like **'algorithm', 'achieve', 'academia'** to assign Positive label\n",
    "3. Stochastic Gradient Descent model uses words like **'bad', 'evil', 'treat'** to assign Negative label\n",
    "4. Stochastic Gradient Descent model uses words like **'anything', 'smarter', 'intelligence'** to assign Positive label\n",
    "5. Support Vector Machine model uses words like **'evil', 'machine', 'code'** to assign Negative label\n",
    "6. Support Vector Machine model uses words like **'intelligence', 'humans', 'yes'** to assign Positive label"
   ]
  },
  {
   "cell_type": "markdown",
   "metadata": {},
   "source": [
    "# PART-D: Discussion"
   ]
  },
  {
   "cell_type": "markdown",
   "metadata": {},
   "source": [
    "After creating all the models, first we need to test all the models on seen dataset as well as unseen datasets to calculate their accuracy, precision, recall and F-1 score. Based on these evaluation measures, we will be able to correctly identify which model has produced the best results."
   ]
  },
  {
   "cell_type": "markdown",
   "metadata": {},
   "source": [
    "* Precision: The precision value defines the amount of total predicted positives\n",
    "* Recall: Recall is defined as the fraction of True Positives actually predicted out of all the Positives\n",
    "* F1 Score: F1 score defines the balance between the precision and recall of the model"
   ]
  },
  {
   "cell_type": "markdown",
   "metadata": {},
   "source": [
    "**Naive Bayes**"
   ]
  },
  {
   "cell_type": "code",
   "execution_count": 24,
   "metadata": {},
   "outputs": [],
   "source": [
    "# Testing the model on seen data\n",
    "y_train_preds = naive_bayes.predict(X_train)\n",
    "\n",
    "# Testing the model on unseen data\n",
    "y_test_preds = naive_bayes.predict(X_test)"
   ]
  },
  {
   "cell_type": "code",
   "execution_count": 25,
   "metadata": {},
   "outputs": [
    {
     "name": "stdout",
     "output_type": "stream",
     "text": [
      "Training Confusion Matrix:\n",
      "[[55  0]\n",
      " [ 1 47]]\n",
      "\n",
      "Testing Confusion Matrix:\n",
      "[[10  4]\n",
      " [ 2 10]]\n"
     ]
    }
   ],
   "source": [
    "# Importing confusion matrix\n",
    "from sklearn.metrics import confusion_matrix\n",
    "\n",
    "# Displaying training confusion matrix\n",
    "print(\"Training Confusion Matrix:\")\n",
    "print(confusion_matrix(y_train, y_train_preds))\n",
    "print(\"\")\n",
    "\n",
    "# Displaying test confusion matrix\n",
    "print(\"Testing Confusion Matrix:\")\n",
    "print(confusion_matrix(y_test, y_test_preds))"
   ]
  },
  {
   "cell_type": "code",
   "execution_count": 26,
   "metadata": {},
   "outputs": [
    {
     "name": "stdout",
     "output_type": "stream",
     "text": [
      "Accuracy of Naive Bayes model on seen data is 0.9902912621359223\n",
      "Accuracy of Naive Bayes model on unseen data is 0.7692307692307693\n"
     ]
    }
   ],
   "source": [
    "# Importing accuracy score\n",
    "from sklearn.metrics import accuracy_score\n",
    "\n",
    "# Displaying the accuracies of Naive Bayes models\n",
    "print(\"Accuracy of Naive Bayes model on seen data is\", accuracy_score(y_train, y_train_preds))\n",
    "print(\"Accuracy of Naive Bayes model on unseen data is\", accuracy_score(y_test, y_test_preds))"
   ]
  },
  {
   "cell_type": "code",
   "execution_count": 27,
   "metadata": {},
   "outputs": [
    {
     "name": "stdout",
     "output_type": "stream",
     "text": [
      "Precision of Naive Bayes model is 0.7738095238095238\n",
      "Recall of Naive Bayes model is 0.7738095238095238\n",
      "F1 score of Naive Bayes model is 0.7692307692307692\n"
     ]
    }
   ],
   "source": [
    "# Other evaluation measures\n",
    "from sklearn.metrics import precision_score, recall_score, f1_score\n",
    "\n",
    "print(\"Precision of Naive Bayes model is\", precision_score(y_test, y_test_preds, average = \"macro\"))\n",
    "print(\"Recall of Naive Bayes model is\", recall_score(y_test, y_test_preds, average = \"macro\"))\n",
    "print(\"F1 score of Naive Bayes model is\", f1_score(y_test, y_test_preds, average = \"macro\"))"
   ]
  },
  {
   "cell_type": "markdown",
   "metadata": {},
   "source": [
    "**Stochastic Gradient Descent**"
   ]
  },
  {
   "cell_type": "code",
   "execution_count": 28,
   "metadata": {},
   "outputs": [],
   "source": [
    "# Testing the model on seen data\n",
    "y_train_preds = sgd.predict(X_train)\n",
    "\n",
    "# Testing the model on unseen data\n",
    "y_test_preds = sgd.predict(X_test)"
   ]
  },
  {
   "cell_type": "code",
   "execution_count": 29,
   "metadata": {},
   "outputs": [
    {
     "name": "stdout",
     "output_type": "stream",
     "text": [
      "Training Confusion Matrix:\n",
      "[[55  0]\n",
      " [ 1 47]]\n",
      "\n",
      "Testing Confusion Matrix:\n",
      "[[10  4]\n",
      " [ 5  7]]\n"
     ]
    }
   ],
   "source": [
    "# Displaying training confusion matrix\n",
    "print(\"Training Confusion Matrix:\")\n",
    "print(confusion_matrix(y_train, y_train_preds))\n",
    "print(\"\")\n",
    "\n",
    "# Displaying test confusion matrix\n",
    "print(\"Testing Confusion Matrix:\")\n",
    "print(confusion_matrix(y_test, y_test_preds))"
   ]
  },
  {
   "cell_type": "code",
   "execution_count": 30,
   "metadata": {},
   "outputs": [
    {
     "name": "stdout",
     "output_type": "stream",
     "text": [
      "Accuracy of Stochastic Gradient Descent model on seen data is 0.9902912621359223\n",
      "Accuracy of Stochastic Gradient Descent model on unseen data is 0.6538461538461539\n"
     ]
    }
   ],
   "source": [
    "# Displaying the accuracies of Stochastic Gradient Descent models\n",
    "print(\"Accuracy of Stochastic Gradient Descent model on seen data is\", accuracy_score(y_train, y_train_preds))\n",
    "print(\"Accuracy of Stochastic Gradient Descent model on unseen data is\", accuracy_score(y_test, y_test_preds))"
   ]
  },
  {
   "cell_type": "code",
   "execution_count": 31,
   "metadata": {},
   "outputs": [
    {
     "name": "stdout",
     "output_type": "stream",
     "text": [
      "Precision of Stochastic Gradient Descent model is 0.6515151515151515\n",
      "Recall of Stochastic Gradient Descent model is 0.6488095238095238\n",
      "F1 score of Stochastic Gradient Descent model is 0.6491754122938531\n"
     ]
    }
   ],
   "source": [
    "# Other evaluation measures\n",
    "print(\"Precision of Stochastic Gradient Descent model is\", precision_score(y_test, y_test_preds, average = \"macro\"))\n",
    "print(\"Recall of Stochastic Gradient Descent model is\", recall_score(y_test, y_test_preds, average = \"macro\"))\n",
    "print(\"F1 score of Stochastic Gradient Descent model is\", f1_score(y_test, y_test_preds, average = \"macro\"))"
   ]
  },
  {
   "cell_type": "markdown",
   "metadata": {},
   "source": [
    "**Support Vector Machine**"
   ]
  },
  {
   "cell_type": "code",
   "execution_count": 32,
   "metadata": {},
   "outputs": [],
   "source": [
    "# Testing the model on seen data\n",
    "y_train_preds = svc.predict(X_train)\n",
    "\n",
    "# Testing the model on unseen data\n",
    "y_test_preds = svc.predict(X_test)"
   ]
  },
  {
   "cell_type": "code",
   "execution_count": 33,
   "metadata": {},
   "outputs": [
    {
     "name": "stdout",
     "output_type": "stream",
     "text": [
      "Training Confusion Matrix:\n",
      "[[55  0]\n",
      " [ 2 46]]\n",
      "\n",
      "Testing Confusion Matrix:\n",
      "[[12  2]\n",
      " [ 5  7]]\n"
     ]
    }
   ],
   "source": [
    "# Displaying training confusion matrix\n",
    "print(\"Training Confusion Matrix:\")\n",
    "print(confusion_matrix(y_train, y_train_preds))\n",
    "print(\"\")\n",
    "\n",
    "# Displaying test confusion matrix\n",
    "print(\"Testing Confusion Matrix:\")\n",
    "print(confusion_matrix(y_test, y_test_preds))"
   ]
  },
  {
   "cell_type": "code",
   "execution_count": 34,
   "metadata": {},
   "outputs": [
    {
     "name": "stdout",
     "output_type": "stream",
     "text": [
      "Accuracy of Support Vector Machine model on seen data is 0.9805825242718447\n",
      "Accuracy of Support Vector Machine model on unseen data is 0.7307692307692307\n"
     ]
    }
   ],
   "source": [
    "# Displaying the accuracies of Support Vector Machine models\n",
    "print(\"Accuracy of Support Vector Machine model on seen data is\", accuracy_score(y_train, y_train_preds))\n",
    "print(\"Accuracy of Support Vector Machine model on unseen data is\", accuracy_score(y_test, y_test_preds))"
   ]
  },
  {
   "cell_type": "code",
   "execution_count": 35,
   "metadata": {},
   "outputs": [
    {
     "name": "stdout",
     "output_type": "stream",
     "text": [
      "Precision of Support Vector Machine model is 0.7418300653594772\n",
      "Recall of Support Vector Machine model is 0.7202380952380952\n",
      "F1 score of Support Vector Machine model is 0.7204301075268817\n"
     ]
    }
   ],
   "source": [
    "# Other evaluation measures\n",
    "print(\"Precision of Support Vector Machine model is\", precision_score(y_test, y_test_preds, average = \"macro\"))\n",
    "print(\"Recall of Support Vector Machine model is\", recall_score(y_test, y_test_preds, average = \"macro\"))\n",
    "print(\"F1 score of Support Vector Machine model is\", f1_score(y_test, y_test_preds, average = \"macro\"))"
   ]
  },
  {
   "cell_type": "markdown",
   "metadata": {},
   "source": [
    "By analyzing the results of all the models, we can say that the Naive Bayes model has performed better than other two classification models during the test phase (unseen data). Other models didn't choose better features to classify labels as compared to Naive Bayes. One limitation to note here is that, every classification model performed exceptionally well on training phase but they performed with an average accuracy on the testing phase. The reason behind this type of accuracy decrees might be due the way we have split the dataset. There are a total of 103 instances in the training set and only 26 instances in the test set. Which means that the problem can be solve by expanding the size of test set from 20% to around 30%."
   ]
  },
  {
   "cell_type": "markdown",
   "metadata": {},
   "source": [
    "# PART-E: Summary"
   ]
  },
  {
   "cell_type": "code",
   "execution_count": 36,
   "metadata": {},
   "outputs": [
    {
     "name": "stdout",
     "output_type": "stream",
     "text": [
      "Number of Positive Opinions: 60\n",
      "Number of Negative Opinions: 69\n"
     ]
    }
   ],
   "source": [
    "print(\"Number of Positive Opinions:\", np.count_nonzero(y == 1))\n",
    "print(\"Number of Negative Opinions:\", np.count_nonzero(y == 0))"
   ]
  },
  {
   "cell_type": "markdown",
   "metadata": {},
   "source": [
    "In this notebook, we defined few classification techniques like Naive Bayes, Stochastic Gradient Descent and Support vector Machine. Then we used those algorithms to train a vectorizer sparse matrix containing people's opinions regarding Artificial Intelligence. After analyzing the features used by classification models and their accuracy values, we concluded that Naive Bayes model has outperformed other model by achieving accuracy of 77% with precision, recall and F1-score values above 0.75. However, we also noted that the accuracy of Naive Bayes model is higher in the training phase and significantly lower in the testing phase. This problem can be solved in two ways: first, we can change the split criterion from 20% data in test set to 30% data in the test set and second, we can gather more comments data from other social media accounts to increase the number of instances that we have. This way our model can be trained on large amount of dataset and it can produce significantly better results. At last, from this analysis, we concluded that there are more people speculating the advances in artificial intelligence than those people who are in favor of the field. This analysis suggests that AI experts should consider people's opinion and take precautions while developing such a system."
   ]
  }
 ],
 "metadata": {
  "kernelspec": {
   "display_name": "Python 3",
   "language": "python",
   "name": "python3"
  },
  "language_info": {
   "codemirror_mode": {
    "name": "ipython",
    "version": 3
   },
   "file_extension": ".py",
   "mimetype": "text/x-python",
   "name": "python",
   "nbconvert_exporter": "python",
   "pygments_lexer": "ipython3",
   "version": "3.7.9"
  }
 },
 "nbformat": 4,
 "nbformat_minor": 4
}
